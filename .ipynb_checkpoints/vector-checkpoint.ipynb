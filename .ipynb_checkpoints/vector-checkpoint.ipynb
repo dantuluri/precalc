{
 "cells": [
  {
   "cell_type": "code",
   "execution_count": 51,
   "metadata": {
    "scrolled": true
   },
   "outputs": [
    {
     "ename": "SyntaxError",
     "evalue": "invalid syntax (<ipython-input-51-ca4300dd38d0>, line 6)",
     "output_type": "error",
     "traceback": [
      "\u001b[0;36m  File \u001b[0;32m\"<ipython-input-51-ca4300dd38d0>\"\u001b[0;36m, line \u001b[0;32m6\u001b[0m\n\u001b[0;31m    for num in range(0, num-1):\u001b[0m\n\u001b[0m                              ^\u001b[0m\n\u001b[0;31mSyntaxError\u001b[0m\u001b[0;31m:\u001b[0m invalid syntax\n"
     ]
    }
   ],
   "source": [
    "import numpy as np\n",
    "import matplotlib.pyplot as plt\n",
    "print(\"Vector.py v.1\")\n",
    "num = input('num of vectors: ')\n",
    "a = np.zeros((num+1,2)\n",
    "             \n",
    "count = 0\n",
    "while count < num:\n",
    "    print(count)\n",
    "    count += 1  # This is the same as count = count + 1             \n",
    "\n",
    "\n",
    "newrow = [1,2,3]\n",
    "A = numpy.vstack([A, newrow])\n",
    "             \n",
    "\n",
    "for num in range(0, num-1):\n",
    "    print(\"arr\"+(num+1)+\" \")\n",
    "    print \"We're on time %d\" % (x)\n",
    "    a = np.zeros((2,2)\n",
    "    \n",
    "inputArr = np.fromstring('1 2', dtype=int, sep=' ')\n",
    "print(inputArr)\n",
    "X, Y = zip(inputArr)\n",
    "plt.figure()\n",
    "ax = plt.gca()\n",
    "ax.quiver(X, Y, angles='xy', scale_units='xy', scale=1)\n",
    "ax.set_xlim([0, 5])\n",
    "ax.set_ylim([0, 5])\n",
    "plt.draw()\n",
    "plt.show()\n",
    "\n",
    "\n",
    "def add(x, y):\n",
    "    return np.add(x, y)\n",
    "\n",
    "x = np.array([[1,2],[3,4]], dtype=np.float64)\n",
    "y = np.array([[5,6],[7,8]], dtype=np.float64)\n",
    "\n",
    "print(np.add(x, y))\n"
   ]
  },
  {
   "cell_type": "code",
   "execution_count": null,
   "metadata": {
    "collapsed": true
   },
   "outputs": [],
   "source": []
  },
  {
   "cell_type": "code",
   "execution_count": null,
   "metadata": {
    "collapsed": true
   },
   "outputs": [],
   "source": []
  }
 ],
 "metadata": {
  "kernelspec": {
   "display_name": "Python 3+",
   "language": "python3",
   "name": "python3"
  }
 },
 "nbformat": 4,
 "nbformat_minor": 2
}
