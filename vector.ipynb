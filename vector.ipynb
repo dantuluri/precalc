{
 "cells": [
  {
   "cell_type": "code",
   "execution_count": 16,
   "metadata": {
    "scrolled": true
   },
   "outputs": [
    {
     "name": "stdout",
     "output_type": "stream",
     "text": [
      "Vector.py v.1\n",
      "num of vector: 2\n",
      "vector: 5 12\n",
      "vector: 3 4\n",
      "[[ 5 12]\n",
      " [ 3  4]]\n"
     ]
    },
    {
     "data": {
      "image/png": "[encoded data removed]",
      "text/plain": [
       "<matplotlib.figure.Figure at 0x10f5a4be0>"
      ]
     },
     "metadata": {},
     "output_type": "display_data"
    },
    {
     "name": "stdout",
     "output_type": "stream",
     "text": [
      "magnitude of vector:  0   13.0\n",
      "magnitude of vector:  1   5.0\n",
      "[[  6.   8.]\n",
      " [ 10.  12.]]\n"
     ]
    }
   ],
   "source": [
    "import numpy as np\n",
    "import matplotlib.pyplot as plt\n",
    "print(\"Vector.py v.1\")\n",
    "num = int(input(\"num of vector: \"))\n",
    "arr = np.zeros([num, 2], dtype=int)\n",
    "count = 0\n",
    "while count < num:\n",
    "    string = input('vector: ')\n",
    "    arr[count] = np.fromstring(string, dtype=int, sep=' ')\n",
    "    count += 1  # This is the same as count = count + 1             \n",
    "\n",
    "             \n",
    "print(arr)\n",
    "\n",
    "X, Y = zip(*arr)\n",
    "plt.figure()\n",
    "ax = plt.gca()\n",
    "ax.quiver(X, Y, angles='xy', scale_units='xy', scale=1)\n",
    "ax.set_xlim([0, np.amax(arr)])\n",
    "ax.set_ylim([0, np.amax(arr)])\n",
    "plt.draw()\n",
    "plt.show()\n",
    "\n",
    "count = 0\n",
    "while count < num:\n",
    "    print (\"magnitude of vector: \" , count, ' ', np.linalg.norm(arr[count]))\n",
    "    count +=1\n",
    "\n",
    "\n"
   ]
  },
  {
   "cell_type": "code",
   "execution_count": null,
   "metadata": {
    "collapsed": true
   },
   "outputs": [],
   "source": []
  },
  {
   "cell_type": "code",
   "execution_count": null,
   "metadata": {
    "collapsed": true
   },
   "outputs": [],
   "source": []
  }
 ],
 "metadata": {
  "kernelspec": {
   "display_name": "Python 3+",
   "language": "python3",
   "name": "python3"
  },
  "language_info": {
   "codemirror_mode": {
    "name": "ipython",
    "version": 3
   },
   "file_extension": ".py",
   "mimetype": "text/x-python",
   "name": "python",
   "nbconvert_exporter": "python",
   "pygments_lexer": "ipython3",
   "version": "3.5.4"
  }
 },
 "nbformat": 4,
 "nbformat_minor": 2
}
